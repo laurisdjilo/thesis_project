{
 "cells": [
  {
   "cell_type": "code",
   "execution_count": 173,
   "metadata": {},
   "outputs": [],
   "source": [
    "import pandas as pd\n",
    "import numpy as np\n",
    "import torch\n",
    "import seaborn as sb\n",
    "from torch.utils.data import Dataset, DataLoader\n",
    "from sklearn.impute import KNNImputer\n",
    "from sklearn.preprocessing import OrdinalEncoder, StandardScaler\n",
    "from sklearn.model_selection import train_test_split\n",
    "from sklearn import metrics\n",
    "from sklearn.base import BaseEstimator\n",
    "from tqdm import tqdm\n",
    "from math import ceil\n",
    "\n",
    "\n",
    "DATA_PATH = \"../data/cross_entropy_loss_dataset\"\n",
    "pd.set_option('display.max_columns', None)"
   ]
  },
  {
   "cell_type": "code",
   "execution_count": 4,
   "metadata": {},
   "outputs": [],
   "source": [
    "raw_parts_features_dataset = pd.read_csv(DATA_PATH+\"/prepared_parts_dataset.csv\", index_col='transformed_mpn')\n",
    "alternates_dataset = pd.read_csv(DATA_PATH+\"/pairs_dataset_50.csv\")\n",
    "alternates_dataset = alternates_dataset.sample(frac=1)"
   ]
  },
  {
   "cell_type": "code",
   "execution_count": 5,
   "metadata": {},
   "outputs": [],
   "source": [
    "NUMERICAL_FEATURES = [\n",
    "    'FullCounterfeitData|CounterfeitOverallRisk',\n",
    "    'FullCounterfeitData|ManCounterfeitReportsCount',\n",
    "    'FullCounterfeitData|PlCounterfeitReportsCount',\n",
    "    'FullCounterfeitData|TimeSinceMarketIntroduction',\n",
    "    'LifeCycleData|EstimatedYearsToEOL',\n",
    "    'LifeCycleData|MaximumEstimatedYearsToEOL',\n",
    "    'LifeCycleData|MinimumEstimatedYearsToEOL',\n",
    "    'LifeCycleData|OverallRisk',\n",
    "    'PackageData|Feature>Product Depth:Value',\n",
    "    'ParametricData|Features>Maximum Operating Temperature:Value',\n",
    "    'ParametricData|Features>Minimum Operating Temperature:Value',\n",
    "    'ParametricData|Features>Number of Terminals:Value',\n",
    "    'ParametricData|Features>Product Height:Value',\n",
    "    'ParametricData|Features>Product Length:Value',\n",
    "    'ParametricData|Features>Tolerance:Value',\n",
    "    'RiskData|NumberOfDistributors',\n",
    "    'RiskData|NumberOfOtherSources'\n",
    "]\n",
    "\n",
    "CATEGORICAL_FEATURES = [\n",
    "    'EnvironmentalDto|ChinaRoHS|EPUP',\n",
    "    'EnvironmentalDto|ChinaRoHS|PBDEFlag',\n",
    "    'EnvironmentalDto|ChinaRoHS|SourceType',\n",
    "    'EnvironmentalDto|ConflictMineralStatus',\n",
    "    'EnvironmentalDto|EICCMembership',\n",
    "    'EnvironmentalDto|EICCTemplateVersion',\n",
    "    'EnvironmentalDto|Exemption',\n",
    "    'EnvironmentalDto|ExemptionCodes',\n",
    "    'EnvironmentalDto|HalgonFree',\n",
    "    'EnvironmentalDto|RareEarthElementInformation',\n",
    "    'EnvironmentalDto|RoHSVersion',\n",
    "    'EnvironmentalDto|RohsIdentifier',\n",
    "    'EnvironmentalDto|SourceType',\n",
    "    'FullCounterfeitData|HistoricalShortagesInventoryReported',\n",
    "    'FullCounterfeitData|IsPopularPart',\n",
    "    'LifeCycleData|LifeCycleRiskGrade',\n",
    "    'LifeCycleData|PartLifecycleCode',\n",
    "    'PackageData|Feature>Mounting:Value',\n",
    "    'PackageData|Feature>Package/Case:Value',\n",
    "    'ParametricData|Features>Life Cycle:Value',\n",
    "    'ParametricData|Features>Mounting:Value',\n",
    "    'ParametricData|Features>Packaging:Value',\n",
    "    'ParametricData|Features>ROHS:Value',\n",
    "    'ParametricData|Features>Technology:Value',\n",
    "    'ParametricData|Features>Temperature Grade:Value',\n",
    "    'ParametricData|Features>Termination Style:Value',\n",
    "    'ReachData|ReachDto|CASNumber',\n",
    "    'ReachData|ReachDto|ContainsSVHC',\n",
    "    'ReachData|ReachDto|EchaNotification',\n",
    "    'ReachData|ReachDto|ReachStatus',\n",
    "    'ReachData|ReachDto|SourceType',\n",
    "    'RiskData|CrossesPartCategory',\n",
    "    'RiskData|InventoryRisk',\n",
    "    'RiskData|LifecycleRisk',\n",
    "    'RiskData|MultiSourcingRisk',\n",
    "    'RiskData|RohsRisk',\n",
    "    'SummaryData|AECQualified',\n",
    "    'SummaryData|Automotive',\n",
    "    'SummaryData|DoseLevel',\n",
    "    'SummaryData|ECCN',\n",
    "    'SummaryData|ESDClass',\n",
    "    'SummaryData|PartMarking',\n",
    "    'SummaryData|RadHard',\n",
    "    'SummaryData|RoHSVersion',\n",
    "    'SummaryData|UNSPSC',\n",
    "    'SummaryData|USChinaTariffImpact'\n",
    "]\n",
    "\n",
    "TEXTUAL_FEATURES = ['SummaryData|PLName', 'SummaryData|PartDescription']\n",
    "\n",
    "DATE_FEATURES = [\n",
    "    'EnvironmentalDto|ExemptionExpirationDate',\n",
    "    'LifeCycleData|LTBDate',\n",
    "    'ReachData|ReachDto|SVHCDateOfInclusion',\n",
    "    'ReachData|ReachDto|SVHCListVersion',\n",
    "    'SummaryData|IntroductionDate',\n",
    "    'SummaryData|LastCheckDate'\n",
    "]"
   ]
  },
  {
   "cell_type": "markdown",
   "metadata": {},
   "source": [
    "## Data preparation"
   ]
  },
  {
   "cell_type": "code",
   "execution_count": 6,
   "metadata": {},
   "outputs": [],
   "source": [
    "parts_features = raw_parts_features_dataset.copy()\n",
    "\n",
    "# Numerical Features imputation\n",
    "imputer = KNNImputer(n_neighbors=5, weights='distance')\n",
    "parts_features[NUMERICAL_FEATURES] = imputer.fit_transform(parts_features[NUMERICAL_FEATURES])"
   ]
  },
  {
   "cell_type": "markdown",
   "metadata": {},
   "source": [
    "## Here starts the pipeline"
   ]
  },
  {
   "cell_type": "code",
   "execution_count": 7,
   "metadata": {},
   "outputs": [],
   "source": [
    "parts_features = parts_features[CATEGORICAL_FEATURES+NUMERICAL_FEATURES]"
   ]
  },
  {
   "cell_type": "code",
   "execution_count": 8,
   "metadata": {},
   "outputs": [
    {
     "data": {
      "text/html": [
       "<style>#sk-container-id-1 {color: black;background-color: white;}#sk-container-id-1 pre{padding: 0;}#sk-container-id-1 div.sk-toggleable {background-color: white;}#sk-container-id-1 label.sk-toggleable__label {cursor: pointer;display: block;width: 100%;margin-bottom: 0;padding: 0.3em;box-sizing: border-box;text-align: center;}#sk-container-id-1 label.sk-toggleable__label-arrow:before {content: \"▸\";float: left;margin-right: 0.25em;color: #696969;}#sk-container-id-1 label.sk-toggleable__label-arrow:hover:before {color: black;}#sk-container-id-1 div.sk-estimator:hover label.sk-toggleable__label-arrow:before {color: black;}#sk-container-id-1 div.sk-toggleable__content {max-height: 0;max-width: 0;overflow: hidden;text-align: left;background-color: #f0f8ff;}#sk-container-id-1 div.sk-toggleable__content pre {margin: 0.2em;color: black;border-radius: 0.25em;background-color: #f0f8ff;}#sk-container-id-1 input.sk-toggleable__control:checked~div.sk-toggleable__content {max-height: 200px;max-width: 100%;overflow: auto;}#sk-container-id-1 input.sk-toggleable__control:checked~label.sk-toggleable__label-arrow:before {content: \"▾\";}#sk-container-id-1 div.sk-estimator input.sk-toggleable__control:checked~label.sk-toggleable__label {background-color: #d4ebff;}#sk-container-id-1 div.sk-label input.sk-toggleable__control:checked~label.sk-toggleable__label {background-color: #d4ebff;}#sk-container-id-1 input.sk-hidden--visually {border: 0;clip: rect(1px 1px 1px 1px);clip: rect(1px, 1px, 1px, 1px);height: 1px;margin: -1px;overflow: hidden;padding: 0;position: absolute;width: 1px;}#sk-container-id-1 div.sk-estimator {font-family: monospace;background-color: #f0f8ff;border: 1px dotted black;border-radius: 0.25em;box-sizing: border-box;margin-bottom: 0.5em;}#sk-container-id-1 div.sk-estimator:hover {background-color: #d4ebff;}#sk-container-id-1 div.sk-parallel-item::after {content: \"\";width: 100%;border-bottom: 1px solid gray;flex-grow: 1;}#sk-container-id-1 div.sk-label:hover label.sk-toggleable__label {background-color: #d4ebff;}#sk-container-id-1 div.sk-serial::before {content: \"\";position: absolute;border-left: 1px solid gray;box-sizing: border-box;top: 0;bottom: 0;left: 50%;z-index: 0;}#sk-container-id-1 div.sk-serial {display: flex;flex-direction: column;align-items: center;background-color: white;padding-right: 0.2em;padding-left: 0.2em;position: relative;}#sk-container-id-1 div.sk-item {position: relative;z-index: 1;}#sk-container-id-1 div.sk-parallel {display: flex;align-items: stretch;justify-content: center;background-color: white;position: relative;}#sk-container-id-1 div.sk-item::before, #sk-container-id-1 div.sk-parallel-item::before {content: \"\";position: absolute;border-left: 1px solid gray;box-sizing: border-box;top: 0;bottom: 0;left: 50%;z-index: -1;}#sk-container-id-1 div.sk-parallel-item {display: flex;flex-direction: column;z-index: 1;position: relative;background-color: white;}#sk-container-id-1 div.sk-parallel-item:first-child::after {align-self: flex-end;width: 50%;}#sk-container-id-1 div.sk-parallel-item:last-child::after {align-self: flex-start;width: 50%;}#sk-container-id-1 div.sk-parallel-item:only-child::after {width: 0;}#sk-container-id-1 div.sk-dashed-wrapped {border: 1px dashed gray;margin: 0 0.4em 0.5em 0.4em;box-sizing: border-box;padding-bottom: 0.4em;background-color: white;}#sk-container-id-1 div.sk-label label {font-family: monospace;font-weight: bold;display: inline-block;line-height: 1.2em;}#sk-container-id-1 div.sk-label-container {text-align: center;}#sk-container-id-1 div.sk-container {/* jupyter's `normalize.less` sets `[hidden] { display: none; }` but bootstrap.min.css set `[hidden] { display: none !important; }` so we also need the `!important` here to be able to override the default hidden behavior on the sphinx rendered scikit-learn.org. See: https://github.com/scikit-learn/scikit-learn/issues/21755 */display: inline-block !important;position: relative;}#sk-container-id-1 div.sk-text-repr-fallback {display: none;}</style><div id=\"sk-container-id-1\" class=\"sk-top-container\"><div class=\"sk-text-repr-fallback\"><pre>StandardScaler()</pre><b>In a Jupyter environment, please rerun this cell to show the HTML representation or trust the notebook. <br />On GitHub, the HTML representation is unable to render, please try loading this page with nbviewer.org.</b></div><div class=\"sk-container\" hidden><div class=\"sk-item\"><div class=\"sk-estimator sk-toggleable\"><input class=\"sk-toggleable__control sk-hidden--visually\" id=\"sk-estimator-id-1\" type=\"checkbox\" checked><label for=\"sk-estimator-id-1\" class=\"sk-toggleable__label sk-toggleable__label-arrow\">StandardScaler</label><div class=\"sk-toggleable__content\"><pre>StandardScaler()</pre></div></div></div></div></div>"
      ],
      "text/plain": [
       "StandardScaler()"
      ]
     },
     "execution_count": 8,
     "metadata": {},
     "output_type": "execute_result"
    }
   ],
   "source": [
    "ordinal_encoders = OrdinalEncoder(dtype=np.int64, handle_unknown='use_encoded_value', unknown_value=-1)\n",
    "numerical_standard_scalers = StandardScaler()\n",
    "\n",
    "ordinal_encoders.fit(X=parts_features[CATEGORICAL_FEATURES])\n",
    "numerical_standard_scalers.fit(X=parts_features[NUMERICAL_FEATURES])"
   ]
  },
  {
   "cell_type": "code",
   "execution_count": 58,
   "metadata": {},
   "outputs": [],
   "source": [
    "class PartsDataset(Dataset):\n",
    "    def __init__(self, parts_features: pd.DataFrame, alternates: pd.DataFrame, num_features: list, cat_features: list, text_features: list, date_features: list) -> None:\n",
    "        super(PartsDataset, self).__init__()\n",
    "        self.parts_features = parts_features.copy()\n",
    "        self.alternates = alternates.copy()\n",
    "        self.alternates.reset_index(inplace=True, drop=True)\n",
    "\n",
    "        self.num_features = num_features\n",
    "        self.cat_features = cat_features\n",
    "        self.text_features = text_features\n",
    "        self.date_features = date_features\n",
    "    \n",
    "    def __len__(self):\n",
    "        return len(self.alternates)\n",
    "    \n",
    "    def __getitem__(self, index):\n",
    "        p1_num_data = numerical_standard_scalers.transform(self.parts_features.loc[self.alternates['original_mpn'][[index]], self.num_features])[0].astype(np.float64)\n",
    "        p1_cat_data = ordinal_encoders.transform(self.parts_features.loc[self.alternates['original_mpn'][[index]], self.cat_features])[0].astype(np.int64)\n",
    "\n",
    "        p2_num_data = numerical_standard_scalers.transform(self.parts_features.loc[self.alternates['alternate_mpn'][[index]], self.num_features])[0].astype(np.float64)\n",
    "        p2_cat_data = ordinal_encoders.transform(self.parts_features.loc[self.alternates['alternate_mpn'][[index]], self.cat_features])[0].astype(np.int64)\n",
    "\n",
    "        target_similarity = self.alternates['similarity'][index].astype(np.float64)\n",
    "\n",
    "        return p1_num_data, p1_cat_data, p2_num_data, p2_cat_data, target_similarity\n"
   ]
  },
  {
   "cell_type": "code",
   "execution_count": 65,
   "metadata": {},
   "outputs": [],
   "source": [
    "class PartEncoder(torch.nn.Module):\n",
    "    def __init__(self, cat_emb_dims: list, final_part_emb_dim: int):\n",
    "        super(PartEncoder, self).__init__()\n",
    "        self.cat_emb_layers = torch.nn.ModuleList([torch.nn.Embedding(x, y) for x, y in cat_emb_dims])\n",
    "        self.fc1 = torch.nn.Linear(in_features=len(NUMERICAL_FEATURES)+sum([y for x, y in cat_emb_dims]), out_features=100)\n",
    "        self.batch_norm1 = torch.nn.BatchNorm1d(100)\n",
    "        self.fc2 = torch.nn.Linear(in_features=100, out_features=50)\n",
    "        self.droup_out = torch.nn.Dropout(p=0.2)\n",
    "        self.fc3 = torch.nn.Linear(in_features=50, out_features=final_part_emb_dim)\n",
    "        self.double()\n",
    "\n",
    "    def forward(self, input_num_data, input_cat_data):\n",
    "        x = [emb_layer(input_cat_data[:, i]) for i, emb_layer in enumerate(self.cat_emb_layers)]\n",
    "        x = torch.cat(x, 1)\n",
    "        x = torch.cat([x, input_num_data], 1)\n",
    "        x = torch.nn.functional.relu(self.fc1(x))\n",
    "        x = self.batch_norm1(x)\n",
    "        x = torch.nn.functional.relu(self.fc2(x))\n",
    "        x = self.droup_out(x)\n",
    "        x = self.fc3(x)\n",
    "        return x"
   ]
  },
  {
   "cell_type": "code",
   "execution_count": 66,
   "metadata": {},
   "outputs": [],
   "source": [
    "class SimilarityPredictor(torch.nn.Module):\n",
    "    def __init__(self, cat_emb_dims: list, final_part_emb_dim: int):\n",
    "        super(SimilarityPredictor, self).__init__()\n",
    "        self.part_encoder = PartEncoder(cat_emb_dims, final_part_emb_dim)\n",
    "        \n",
    "        self.batch_nom1 = torch.nn.BatchNorm1d(2*final_part_emb_dim)\n",
    "        self.fc1 = torch.nn.Linear(in_features=2*final_part_emb_dim, out_features=20)\n",
    "        self.drop_out1 = torch.nn.Dropout(0.2)\n",
    "        self.fc2 = torch.nn.Linear(in_features=20, out_features=10)\n",
    "        self.fc3 = torch.nn.Linear(in_features=10, out_features=1)\n",
    "        self.double()\n",
    "    \n",
    "    def forward(self, p1_num_data, p1_cat_data, p2_num_data, p2_cat_data):\n",
    "        p1_encoded = self.part_encoder(p1_num_data, p1_cat_data)\n",
    "        p2_encoded = self.part_encoder(p2_num_data, p2_cat_data)\n",
    "\n",
    "        x = torch.cat([p1_encoded, p2_encoded], 1)\n",
    "        x = self.batch_nom1(x)\n",
    "        x = torch.nn.functional.relu(self.fc1(x))\n",
    "        x = self.drop_out1(x)\n",
    "        x = torch.nn.functional.relu(self.fc2(x))\n",
    "        x = torch.sigmoid(self.fc3(x))\n",
    "\n",
    "        return x"
   ]
  },
  {
   "cell_type": "code",
   "execution_count": 83,
   "metadata": {},
   "outputs": [],
   "source": [
    "cat_features_emb_dimensions = parts_features[CATEGORICAL_FEATURES].describe().loc['unique'].apply(lambda x: (x, min(50, ceil(1.6*x**0.56)))).values\n",
    "final_part_emb_dimension = ceil(1.6*parts_features.shape[1]**0.56)"
   ]
  },
  {
   "cell_type": "code",
   "execution_count": 104,
   "metadata": {},
   "outputs": [],
   "source": [
    "BATCH_SIZE = 150\n",
    "train_alternates_dataset, test_alternates_dataset = train_test_split(alternates_dataset, test_size=0.2, shuffle=True, stratify=alternates_dataset['similarity'])\n",
    "train_dataset = PartsDataset(parts_features, train_alternates_dataset, NUMERICAL_FEATURES, CATEGORICAL_FEATURES, TEXTUAL_FEATURES, DATE_FEATURES)\n",
    "train_data_loader = DataLoader(train_dataset, batch_size=BATCH_SIZE, num_workers=10)"
   ]
  },
  {
   "cell_type": "code",
   "execution_count": 105,
   "metadata": {},
   "outputs": [],
   "source": [
    "similarity_predictor = SimilarityPredictor(cat_features_emb_dimensions, final_part_emb_dimension)\n",
    "optimizer = torch.optim.SGD(similarity_predictor.parameters(), lr=0.1, momentum=0.9)\n",
    "criterion = torch.nn.BCELoss()"
   ]
  },
  {
   "cell_type": "code",
   "execution_count": null,
   "metadata": {},
   "outputs": [],
   "source": [
    "EPOCHS = 12\n",
    "similarity_predictor.train()\n",
    "epoches_losses = []\n",
    "for epoch in range(EPOCHS):\n",
    "    print(\" ================================== EPOCH {} ================================== \".format(epoch))\n",
    "    epoch_loss = 0\n",
    "    for p1_num_data, p1_cat_data, p2_num_data, p2_cat_data, target_similarity in tqdm(train_data_loader, desc=\"Training\", leave=False):\n",
    "        optimizer.zero_grad()\n",
    "        \n",
    "        output = similarity_predictor(p1_num_data, p1_cat_data, p2_num_data, p2_cat_data).squeeze()\n",
    "        loss = criterion(output, target_similarity)\n",
    "        loss.backward()\n",
    "        optimizer.step()\n",
    "        \n",
    "        epoch_loss = epoch_loss + len(target_similarity) * loss.detach().numpy()\n",
    "    \n",
    "    epoches_losses.append(epoch_loss/len(train_dataset))"
   ]
  },
  {
   "cell_type": "code",
   "execution_count": 113,
   "metadata": {},
   "outputs": [
    {
     "data": {
      "text/plain": [
       "<AxesSubplot: >"
      ]
     },
     "execution_count": 113,
     "metadata": {},
     "output_type": "execute_result"
    },
    {
     "data": {
      "image/png": "[encoded data removed]",
      "text/plain": [
       "<Figure size 640x480 with 1 Axes>"
      ]
     },
     "metadata": {},
     "output_type": "display_data"
    }
   ],
   "source": [
    "sb.lineplot(x=range(1, len(epoches_losses)+1), y=epoches_losses)"
   ]
  },
  {
   "cell_type": "code",
   "execution_count": 114,
   "metadata": {},
   "outputs": [],
   "source": [
    "test_dataset = PartsDataset(parts_features, test_alternates_dataset, NUMERICAL_FEATURES, CATEGORICAL_FEATURES, TEXTUAL_FEATURES, DATE_FEATURES)\n",
    "test_data_loader = DataLoader(test_dataset, batch_size=BATCH_SIZE, num_workers=10)"
   ]
  },
  {
   "cell_type": "code",
   "execution_count": 125,
   "metadata": {},
   "outputs": [
    {
     "name": "stderr",
     "output_type": "stream",
     "text": [
      "                                                             \r"
     ]
    }
   ],
   "source": [
    "similarity_predictor.eval()\n",
    "test_loss = 0\n",
    "result_df = pd.DataFrame(columns=['target', 'pred'])\n",
    "for p1_num_data, p1_cat_data, p2_num_data, p2_cat_data, target_similarity in tqdm(test_data_loader, desc=\"Test\", leave=False):\n",
    "    with torch.no_grad():\n",
    "        output = similarity_predictor(p1_num_data, p1_cat_data, p2_num_data, p2_cat_data).squeeze()\n",
    "        pred = torch.where(output > 0.5, 1, 0)\n",
    "        result_df = pd.concat([result_df, pd.DataFrame({'target': target_similarity.detach().numpy(), 'pred': pred.detach().numpy()})])\n",
    "        loss = criterion(output, target_similarity)\n",
    "        \n",
    "        test_loss = test_loss + len(target_similarity) * loss.detach().numpy()\n"
   ]
  },
  {
   "cell_type": "code",
   "execution_count": 169,
   "metadata": {},
   "outputs": [],
   "source": [
    "result_df = result_df.astype(np.int64)\n",
    "test_loss = test_loss/len(test_dataset)\n",
    "\n",
    "confusion_matrix = metrics.confusion_matrix(y_true=result_df['target'], y_pred=result_df['pred'])"
   ]
  },
  {
   "cell_type": "code",
   "execution_count": 172,
   "metadata": {},
   "outputs": [
    {
     "name": "stdout",
     "output_type": "stream",
     "text": [
      "0.06842558481844327\n"
     ]
    }
   ],
   "source": [
    "print(test_loss)"
   ]
  },
  {
   "cell_type": "code",
   "execution_count": 134,
   "metadata": {},
   "outputs": [
    {
     "name": "stdout",
     "output_type": "stream",
     "text": [
      "              precision    recall  f1-score   support\n",
      "\n",
      "           0       0.99      0.97      0.98    144910\n",
      "           1       0.68      0.88      0.76      9114\n",
      "\n",
      "    accuracy                           0.97    154024\n",
      "   macro avg       0.83      0.92      0.87    154024\n",
      "weighted avg       0.97      0.97      0.97    154024\n",
      "\n"
     ]
    }
   ],
   "source": [
    "print(metrics.classification_report(y_true=result_df['target'], y_pred=result_df['pred']))"
   ]
  },
  {
   "cell_type": "code",
   "execution_count": 136,
   "metadata": {},
   "outputs": [
    {
     "data": {
      "text/plain": [
       "<sklearn.metrics._plot.confusion_matrix.ConfusionMatrixDisplay at 0x7fc984927be0>"
      ]
     },
     "execution_count": 136,
     "metadata": {},
     "output_type": "execute_result"
    },
    {
     "data": {
      "image/png": "[encoded data removed]",
      "text/plain": [
       "<Figure size 640x480 with 2 Axes>"
      ]
     },
     "metadata": {},
     "output_type": "display_data"
    }
   ],
   "source": [
    "disp = metrics.ConfusionMatrixDisplay(confusion_matrix=confusion_matrix)\n",
    "disp.plot()"
   ]
  },
  {
   "cell_type": "code",
   "execution_count": 212,
   "metadata": {},
   "outputs": [],
   "source": [
    "import pickle\n",
    "\n",
    "def export_object(object, file_name):\n",
    "    with open(file_name, 'wb') as f:\n",
    "        pickle.dump(object, f)\n",
    "\n",
    "def import_object(file):\n",
    "    with open(file, 'rb') as f:\n",
    "        return pickle.load(f)\n",
    "\n",
    "class CustomColumnsTransformer():\n",
    "    def __init__(self, num_data_transformer: BaseEstimator, cat_data_transformer: BaseEstimator, num_features: list, cat_features: list):\n",
    "        self._num_data_transformer = num_data_transformer\n",
    "        self._cat_data_transformer = cat_data_transformer\n",
    "        self._num_features = num_features\n",
    "        self._cat_features = cat_features\n",
    "    \n",
    "    def input_features(self):\n",
    "        return self._num_features, self._cat_features\n",
    "\n",
    "    def transform(self, X: pd.DataFrame):\n",
    "        num_data = self._num_data_transformer.transform(X[self._num_features])\n",
    "        cat_data = self._cat_data_transformer.transform(X[self._cat_features])\n",
    "        return num_data, cat_data\n",
    "\n",
    "\n",
    "class PartEncoderFinal():\n",
    "    def __init__(self, columns_transformer: CustomColumnsTransformer, part_encoder: PartEncoder):\n",
    "        self.columns_transformer = columns_transformer\n",
    "        self._part_encoder = part_encoder.eval()\n",
    "\n",
    "    def encode_parts(self, X: pd.DataFrame):\n",
    "        num_data, cat_data = self.columns_transformer.transform(X)\n",
    "        num_data = torch.Tensor(num_data).type(torch.float64)\n",
    "        cat_data = torch.Tensor(cat_data).type(torch.int64)\n",
    "        encoded_parts = None\n",
    "        with torch.no_grad():\n",
    "            encoded_parts = self._part_encoder(num_data, cat_data).numpy()\n",
    "        return encoded_parts\n",
    "    \n",
    "    def export(self, transformer_file_name, encoder_file_name):\n",
    "        export_object(self.columns_transformer, transformer_file_name)\n",
    "        export_object(self._part_encoder, encoder_file_name)\n",
    "    \n",
    "    @staticmethod\n",
    "    def import_encoder(transformer_file_name, encoder_file_name):\n",
    "        columns_transformer = import_object(transformer_file_name)\n",
    "        part_encoder = import_object(encoder_file_name)\n",
    "        return PartEncoderFinal(columns_transformer, part_encoder)"
   ]
  },
  {
   "cell_type": "code",
   "execution_count": 213,
   "metadata": {},
   "outputs": [],
   "source": [
    "custom_columns_transformer = CustomColumnsTransformer(numerical_standard_scalers, ordinal_encoders, NUMERICAL_FEATURES, CATEGORICAL_FEATURES)\n",
    "part_encoder_final = PartEncoderFinal(custom_columns_transformer, similarity_predictor.part_encoder)"
   ]
  },
  {
   "cell_type": "code",
   "execution_count": 216,
   "metadata": {},
   "outputs": [],
   "source": [
    "part_encoder_final.export('../models/1_custom_columns_transformer.pickle', '../models/1_part_encoder_final.pickle')"
   ]
  },
  {
   "cell_type": "code",
   "execution_count": 227,
   "metadata": {},
   "outputs": [
    {
     "data": {
      "text/plain": [
       "array([[-24.99752317, -52.98928089, -48.71926678, ..., -20.84791448,\n",
       "         53.69913685,  17.43607968],\n",
       "       [  5.77832998,  10.99185738,  38.98347536, ...,   6.02075078,\n",
       "        -37.89697606,   4.28543253],\n",
       "       [-10.76916994, -41.54472749,  -8.10065523, ...,   2.82907285,\n",
       "         56.45584288,   8.2069462 ],\n",
       "       ...,\n",
       "       [ 40.74688253, -27.67287858,  50.32689007, ...,  24.81188801,\n",
       "        -50.6402413 , -21.18058608],\n",
       "       [-25.56798951, -40.55741424, -34.28883237, ...,  -7.27551878,\n",
       "         54.15463044,  13.35296295],\n",
       "       [-12.57079739, -30.01596048, -22.45847194, ..., -16.30267106,\n",
       "         32.05649955,   2.35323221]])"
      ]
     },
     "execution_count": 227,
     "metadata": {},
     "output_type": "execute_result"
    }
   ],
   "source": [
    "part_encoder_final.encode_parts(parts_features)"
   ]
  },
  {
   "cell_type": "code",
   "execution_count": null,
   "metadata": {},
   "outputs": [],
   "source": []
  }
 ],
 "metadata": {
  "kernelspec": {
   "display_name": "Python 3.10.4 ('venv': venv)",
   "language": "python",
   "name": "python3"
  },
  "language_info": {
   "codemirror_mode": {
    "name": "ipython",
    "version": 3
   },
   "file_extension": ".py",
   "mimetype": "text/x-python",
   "name": "python",
   "nbconvert_exporter": "python",
   "pygments_lexer": "ipython3",
   "version": "3.10.6"
  },
  "orig_nbformat": 4,
  "vscode": {
   "interpreter": {
    "hash": "a0c3a8c53b65175ab09cc9e40b16d1ba2ab60bb5c1262ebc7978e53535bf8122"
   }
  }
 },
 "nbformat": 4,
 "nbformat_minor": 2
}
