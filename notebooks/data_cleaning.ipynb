{
 "cells": [
  {
   "cell_type": "code",
   "execution_count": 1,
   "metadata": {},
   "outputs": [],
   "source": [
    "import pandas as pd\n",
    "import numpy as np\n",
    "import json, re, datetime\n",
    "import seaborn as sb\n",
    "import swifter\n",
    "from functools import reduce\n",
    "from operator import getitem\n",
    "\n",
    "pd.set_option('display.max_columns', None)"
   ]
  },
  {
   "cell_type": "code",
   "execution_count": 2,
   "metadata": {},
   "outputs": [],
   "source": [
    "nexar_alternates = pd.read_csv(\"../data/raw/puma_mpns_alternates_from_nexar.csv\")\n",
    "sylicon_alternates = pd.read_csv(\"../data/raw/puma_mpns_alternates_from_sylicon.csv\")"
   ]
  },
  {
   "cell_type": "code",
   "execution_count": 3,
   "metadata": {},
   "outputs": [],
   "source": [
    "nexar_alternates_modified = nexar_alternates.copy()\n",
    "nexar_alternates_modified['alternate_mpn'] = nexar_alternates['alternate_mpn'].apply(lambda x: re.sub(r'[^\\w]', '', str(x).lower()))\n",
    "sylicon_alternates_modified = sylicon_alternates[['original_mpn', 'alternate_mpn']].copy()\n",
    "sylicon_alternates_modified['alternate_mpn'] = sylicon_alternates['alternate_mpn'].apply(lambda x: re.sub(r'[^\\w]', '', str(x).lower()))\n",
    "final_alternates_df = pd.concat([nexar_alternates_modified, sylicon_alternates_modified]).drop_duplicates().reset_index(drop=True)\n",
    "final_alternates_df = final_alternates_df[final_alternates_df.swifter.apply(lambda x: x['original_mpn']!=x['alternate_mpn'], axis=1)]"
   ]
  },
  {
   "cell_type": "code",
   "execution_count": 4,
   "metadata": {},
   "outputs": [],
   "source": [
    "with open(\"../data/raw/set_of_mpns_sylicon_data_.json\", 'r', encoding='utf-8') as json_file:\n",
    "    sylicon_expert_raw_data = json.load(json_file)"
   ]
  },
  {
   "cell_type": "code",
   "execution_count": 5,
   "metadata": {},
   "outputs": [],
   "source": [
    "collected_parts = set(map(lambda line: re.sub(r'[^\\w]', '', str(line['SummaryData']['PartNumber']).lower()), sylicon_expert_raw_data))"
   ]
  },
  {
   "cell_type": "code",
   "execution_count": 6,
   "metadata": {},
   "outputs": [
    {
     "data": {
      "application/vnd.jupyter.widget-view+json": {
       "model_id": "c39b47fa4e974c6292428a98dd79d2f6",
       "version_major": 2,
       "version_minor": 0
      },
      "text/plain": [
       "Pandas Apply:   0%|          | 0/2180720 [00:00<?, ?it/s]"
      ]
     },
     "metadata": {},
     "output_type": "display_data"
    }
   ],
   "source": [
    "df_alternates_collected = final_alternates_df[final_alternates_df.swifter.apply(lambda x: x['original_mpn'] in collected_parts and x['alternate_mpn'] in collected_parts, axis=1)]"
   ]
  },
  {
   "cell_type": "code",
   "execution_count": 7,
   "metadata": {},
   "outputs": [],
   "source": [
    "df_alternates_collected.to_csv(\"../data/alternate_parts_couples.csv\", index=False)"
   ]
  },
  {
   "cell_type": "markdown",
   "metadata": {},
   "source": [
    "## 1. Generic structure of a component data"
   ]
  },
  {
   "cell_type": "code",
   "execution_count": 8,
   "metadata": {},
   "outputs": [],
   "source": [
    "def get_nested_item(data, keys):\n",
    "    \"\"\"\n",
    "    This is to get the value of a keys path in a dictionnary\n",
    "    \"\"\"\n",
    "    return reduce(getitem, keys, data)\n",
    "\n",
    "def safe_get_nested_item(data, keys):\n",
    "    try:\n",
    "        return get_nested_item(data, keys)\n",
    "    except:\n",
    "        return None\n",
    "\n",
    "def block_structure(block: dict):\n",
    "    \"\"\"\n",
    "    This is to get the generic data structure of a component\n",
    "    \"\"\"\n",
    "    tmp = {}\n",
    "    for key in block:\n",
    "        if type(block[key])!=dict:\n",
    "            tmp[key] = type(block[key])\n",
    "        else:\n",
    "            tmp[key] = block_structure(block[key])\n",
    "    return tmp\n",
    "\n",
    "def merge(a, b):\n",
    "    \"\"\"\n",
    "    This is to merge two dictionnaries deeply (recursively), taking all the keys in the two dictionnaries\n",
    "    \"\"\"\n",
    "    for key in b:\n",
    "        if key in a:\n",
    "            if isinstance(a[key], dict) and isinstance(b[key], dict):\n",
    "                merge(a[key], b[key])\n",
    "            else:\n",
    "                a[key] = b[key]\n",
    "        else:\n",
    "            a[key] = b[key]\n",
    "    return a\n",
    "\n",
    "def get_features_path(block_structure: dict):\n",
    "    \"\"\"\n",
    "    block_strucure: A dictionnary that describes a data structure\n",
    "    \n",
    "    Result : A dictionnary, where each key of the is the path to a leaf in the tree represented by block_structure\n",
    "    \"\"\"\n",
    "    features_path = {}\n",
    "    for key in block_structure:\n",
    "        if type(block_structure[key])!=dict:\n",
    "            features_path[key] = block_structure[key]\n",
    "        else:\n",
    "            tmp = get_features_path(block_structure[key])\n",
    "            for child_key in tmp:\n",
    "                features_path[\"{}|{}\".format(key, child_key)] = tmp[child_key]\n",
    "    return features_path"
   ]
  },
  {
   "cell_type": "code",
   "execution_count": 9,
   "metadata": {},
   "outputs": [],
   "source": [
    "component_data_structure = {}\n",
    "for component in sylicon_expert_raw_data:\n",
    "    component_data_structure = merge(component_data_structure, block_structure(component))\n",
    "features_path = get_features_path(component_data_structure)"
   ]
  },
  {
   "cell_type": "markdown",
   "metadata": {},
   "source": [
    "## 2. Extract features with enough data"
   ]
  },
  {
   "cell_type": "code",
   "execution_count": 10,
   "metadata": {},
   "outputs": [],
   "source": [
    "features_stats = {}\n",
    "for component in sylicon_expert_raw_data:\n",
    "    for feature in features_path:\n",
    "        try:\n",
    "            val = get_nested_item(component, feature.split(\"|\"))\n",
    "            features_stats[feature] = features_stats.get(feature, 0) + 1\n",
    "        except:\n",
    "            pass\n",
    "usable_features = {x: features_path[x] for x in filter(lambda x: features_stats[x]/len(sylicon_expert_raw_data)>0.8, features_stats.keys())}"
   ]
  },
  {
   "cell_type": "markdown",
   "metadata": {},
   "source": [
    "### 2.1. For non-list features"
   ]
  },
  {
   "cell_type": "code",
   "execution_count": 11,
   "metadata": {},
   "outputs": [
    {
     "data": {
      "text/html": [
       "<div>\n",
       "<style scoped>\n",
       "    .dataframe tbody tr th:only-of-type {\n",
       "        vertical-align: middle;\n",
       "    }\n",
       "\n",
       "    .dataframe tbody tr th {\n",
       "        vertical-align: top;\n",
       "    }\n",
       "\n",
       "    .dataframe thead th {\n",
       "        text-align: right;\n",
       "    }\n",
       "</style>\n",
       "<table border=\"1\" class=\"dataframe\">\n",
       "  <thead>\n",
       "    <tr style=\"text-align: right;\">\n",
       "      <th></th>\n",
       "      <th>feature</th>\n",
       "      <th>coverage</th>\n",
       "    </tr>\n",
       "  </thead>\n",
       "  <tbody>\n",
       "    <tr>\n",
       "      <th>0</th>\n",
       "      <td>RequestedComID</td>\n",
       "      <td>100.000000</td>\n",
       "    </tr>\n",
       "    <tr>\n",
       "      <th>1</th>\n",
       "      <td>DesignResourcesData|PinOutData|PinOutDataSource</td>\n",
       "      <td>99.939262</td>\n",
       "    </tr>\n",
       "    <tr>\n",
       "      <th>2</th>\n",
       "      <td>AverageInventory</td>\n",
       "      <td>100.000000</td>\n",
       "    </tr>\n",
       "    <tr>\n",
       "      <th>3</th>\n",
       "      <td>FullCounterfeitData|CounterfeitOverallRisk</td>\n",
       "      <td>99.835141</td>\n",
       "    </tr>\n",
       "    <tr>\n",
       "      <th>4</th>\n",
       "      <td>FullCounterfeitData|PartNumCounterfeitReportsC...</td>\n",
       "      <td>99.835141</td>\n",
       "    </tr>\n",
       "    <tr>\n",
       "      <th>...</th>\n",
       "      <td>...</td>\n",
       "      <td>...</td>\n",
       "    </tr>\n",
       "    <tr>\n",
       "      <th>120</th>\n",
       "      <td>RiskData|SEGrade</td>\n",
       "      <td>99.876046</td>\n",
       "    </tr>\n",
       "    <tr>\n",
       "      <th>121</th>\n",
       "      <td>RiskData|LastUpdateDate</td>\n",
       "      <td>99.876046</td>\n",
       "    </tr>\n",
       "    <tr>\n",
       "      <th>122</th>\n",
       "      <td>RiskData|YeolComment</td>\n",
       "      <td>99.876046</td>\n",
       "    </tr>\n",
       "    <tr>\n",
       "      <th>123</th>\n",
       "      <td>ProductImage|ProductImageSmall</td>\n",
       "      <td>99.876046</td>\n",
       "    </tr>\n",
       "    <tr>\n",
       "      <th>124</th>\n",
       "      <td>ProductImage|ProductImageLarge</td>\n",
       "      <td>99.876046</td>\n",
       "    </tr>\n",
       "  </tbody>\n",
       "</table>\n",
       "<p>125 rows × 2 columns</p>\n",
       "</div>"
      ],
      "text/plain": [
       "                                               feature    coverage\n",
       "0                                       RequestedComID  100.000000\n",
       "1      DesignResourcesData|PinOutData|PinOutDataSource   99.939262\n",
       "2                                     AverageInventory  100.000000\n",
       "3           FullCounterfeitData|CounterfeitOverallRisk   99.835141\n",
       "4    FullCounterfeitData|PartNumCounterfeitReportsC...   99.835141\n",
       "..                                                 ...         ...\n",
       "120                                   RiskData|SEGrade   99.876046\n",
       "121                            RiskData|LastUpdateDate   99.876046\n",
       "122                               RiskData|YeolComment   99.876046\n",
       "123                     ProductImage|ProductImageSmall   99.876046\n",
       "124                     ProductImage|ProductImageLarge   99.876046\n",
       "\n",
       "[125 rows x 2 columns]"
      ]
     },
     "execution_count": 11,
     "metadata": {},
     "output_type": "execute_result"
    }
   ],
   "source": [
    "tmp = pd.DataFrame.from_dict({x: features_stats[x] for x in filter(lambda x: usable_features[x]!=list, usable_features.keys())}, orient='index')\n",
    "tmp.reset_index(inplace=True)\n",
    "tmp.columns = ['feature', 'coverage']\n",
    "tmp['coverage'] = tmp['coverage']*100/len(sylicon_expert_raw_data)\n",
    "tmp"
   ]
  },
  {
   "cell_type": "code",
   "execution_count": 12,
   "metadata": {},
   "outputs": [],
   "source": [
    "final_features_coverage_df = tmp.copy()"
   ]
  },
  {
   "cell_type": "markdown",
   "metadata": {},
   "source": [
    "### 2.2. For list features"
   ]
  },
  {
   "cell_type": "code",
   "execution_count": 13,
   "metadata": {},
   "outputs": [
    {
     "data": {
      "text/plain": [
       "['AllPackageData|Feature',\n",
       " 'PackageData|Feature',\n",
       " 'ParametricData|Features',\n",
       " 'History|Lifecycle']"
      ]
     },
     "execution_count": 13,
     "metadata": {},
     "output_type": "execute_result"
    }
   ],
   "source": [
    "# Here are the list features that have values for at least 80% of the dataset\n",
    "# We are going the study the feature in that lists next\n",
    "# Except AllPackageData|Feature because it is a copy of PackageData|Feature\n",
    "# Except History|Lifecycle because we are not going to consider this for the moment\n",
    "\n",
    "list(filter(lambda x: usable_features[x]==list, usable_features.keys()))"
   ]
  },
  {
   "cell_type": "markdown",
   "metadata": {},
   "source": [
    "#### a) PackageData|Feature"
   ]
  },
  {
   "cell_type": "code",
   "execution_count": 14,
   "metadata": {},
   "outputs": [
    {
     "data": {
      "text/html": [
       "<div>\n",
       "<style scoped>\n",
       "    .dataframe tbody tr th:only-of-type {\n",
       "        vertical-align: middle;\n",
       "    }\n",
       "\n",
       "    .dataframe tbody tr th {\n",
       "        vertical-align: top;\n",
       "    }\n",
       "\n",
       "    .dataframe thead th {\n",
       "        text-align: right;\n",
       "    }\n",
       "</style>\n",
       "<table border=\"1\" class=\"dataframe\">\n",
       "  <thead>\n",
       "    <tr style=\"text-align: right;\">\n",
       "      <th></th>\n",
       "      <th>feature</th>\n",
       "      <th>coverage</th>\n",
       "    </tr>\n",
       "  </thead>\n",
       "  <tbody>\n",
       "    <tr>\n",
       "      <th>2</th>\n",
       "      <td>PackageData|Feature&gt;Mounting</td>\n",
       "      <td>98.289433</td>\n",
       "    </tr>\n",
       "    <tr>\n",
       "      <th>18</th>\n",
       "      <td>PackageData|Feature&gt;Number of Terminals</td>\n",
       "      <td>67.743415</td>\n",
       "    </tr>\n",
       "    <tr>\n",
       "      <th>19</th>\n",
       "      <td>PackageData|Feature&gt;Package/Case</td>\n",
       "      <td>62.563372</td>\n",
       "    </tr>\n",
       "    <tr>\n",
       "      <th>20</th>\n",
       "      <td>PackageData|Feature&gt;Product Depth</td>\n",
       "      <td>69.685776</td>\n",
       "    </tr>\n",
       "    <tr>\n",
       "      <th>21</th>\n",
       "      <td>PackageData|Feature&gt;Product Diameter</td>\n",
       "      <td>68.554075</td>\n",
       "    </tr>\n",
       "    <tr>\n",
       "      <th>22</th>\n",
       "      <td>PackageData|Feature&gt;Product Height</td>\n",
       "      <td>69.677099</td>\n",
       "    </tr>\n",
       "    <tr>\n",
       "      <th>23</th>\n",
       "      <td>PackageData|Feature&gt;Product Length</td>\n",
       "      <td>69.688255</td>\n",
       "    </tr>\n",
       "    <tr>\n",
       "      <th>24</th>\n",
       "      <td>PackageData|Feature&gt;Product Weight</td>\n",
       "      <td>68.562752</td>\n",
       "    </tr>\n",
       "    <tr>\n",
       "      <th>26</th>\n",
       "      <td>PackageData|Feature&gt;Terminal Pitch</td>\n",
       "      <td>66.562132</td>\n",
       "    </tr>\n",
       "    <tr>\n",
       "      <th>27</th>\n",
       "      <td>PackageData|Feature&gt;Termination Style</td>\n",
       "      <td>66.264642</td>\n",
       "    </tr>\n",
       "  </tbody>\n",
       "</table>\n",
       "</div>"
      ],
      "text/plain": [
       "                                    feature   coverage\n",
       "2              PackageData|Feature>Mounting  98.289433\n",
       "18  PackageData|Feature>Number of Terminals  67.743415\n",
       "19         PackageData|Feature>Package/Case  62.563372\n",
       "20        PackageData|Feature>Product Depth  69.685776\n",
       "21     PackageData|Feature>Product Diameter  68.554075\n",
       "22       PackageData|Feature>Product Height  69.677099\n",
       "23       PackageData|Feature>Product Length  69.688255\n",
       "24       PackageData|Feature>Product Weight  68.562752\n",
       "26       PackageData|Feature>Terminal Pitch  66.562132\n",
       "27    PackageData|Feature>Termination Style  66.264642"
      ]
     },
     "execution_count": 14,
     "metadata": {},
     "output_type": "execute_result"
    }
   ],
   "source": [
    "package_data_features_stats = {}\n",
    "for component in sylicon_expert_raw_data:\n",
    "    tmp_feature_data = safe_get_nested_item(component, 'PackageData|Feature'.split('|'))\n",
    "    if tmp_feature_data!=None:\n",
    "        if type(tmp_feature_data) == list:\n",
    "            for feature_dict in tmp_feature_data:\n",
    "                package_data_features_stats[\"{}>{}\".format('PackageData|Feature', feature_dict['FeatureName'])] = package_data_features_stats.get(\"{}>{}\".format('PackageData|Feature', feature_dict['FeatureName']), 0) + 1\n",
    "        else:\n",
    "            package_data_features_stats[\"{}|{}\".format('PackageData|Feature', tmp_feature_data['FeatureName'])] = package_data_features_stats.get(\"{}|{}\".format('PackageData|Feature', tmp_feature_data['FeatureName']), 0) + 1\n",
    "\n",
    "tmp = pd.DataFrame.from_dict(package_data_features_stats, orient='index')\n",
    "tmp.reset_index(inplace=True)\n",
    "tmp.columns = ['feature', 'coverage']\n",
    "tmp['coverage'] = tmp['coverage']*100/len(sylicon_expert_raw_data)\n",
    "tmp = tmp[tmp['coverage']>=60]\n",
    "tmp"
   ]
  },
  {
   "cell_type": "code",
   "execution_count": 15,
   "metadata": {},
   "outputs": [],
   "source": [
    "final_features_coverage_df = pd.concat([final_features_coverage_df, tmp])"
   ]
  },
  {
   "cell_type": "markdown",
   "metadata": {},
   "source": [
    "#### b) ParametricData|Features"
   ]
  },
  {
   "cell_type": "code",
   "execution_count": 16,
   "metadata": {},
   "outputs": [
    {
     "data": {
      "text/html": [
       "<div>\n",
       "<style scoped>\n",
       "    .dataframe tbody tr th:only-of-type {\n",
       "        vertical-align: middle;\n",
       "    }\n",
       "\n",
       "    .dataframe tbody tr th {\n",
       "        vertical-align: top;\n",
       "    }\n",
       "\n",
       "    .dataframe thead th {\n",
       "        text-align: right;\n",
       "    }\n",
       "</style>\n",
       "<table border=\"1\" class=\"dataframe\">\n",
       "  <thead>\n",
       "    <tr style=\"text-align: right;\">\n",
       "      <th></th>\n",
       "      <th>feature</th>\n",
       "      <th>coverage</th>\n",
       "    </tr>\n",
       "  </thead>\n",
       "  <tbody>\n",
       "    <tr>\n",
       "      <th>11</th>\n",
       "      <td>ParametricData|Features&gt;Life Cycle</td>\n",
       "      <td>97.431670</td>\n",
       "    </tr>\n",
       "    <tr>\n",
       "      <th>18</th>\n",
       "      <td>ParametricData|Features&gt;Maximum Operating Temp...</td>\n",
       "      <td>96.115277</td>\n",
       "    </tr>\n",
       "    <tr>\n",
       "      <th>21</th>\n",
       "      <td>ParametricData|Features&gt;Minimum Operating Temp...</td>\n",
       "      <td>95.997521</td>\n",
       "    </tr>\n",
       "    <tr>\n",
       "      <th>27</th>\n",
       "      <td>ParametricData|Features&gt;Packaging</td>\n",
       "      <td>83.924388</td>\n",
       "    </tr>\n",
       "    <tr>\n",
       "      <th>33</th>\n",
       "      <td>ParametricData|Features&gt;ROHS</td>\n",
       "      <td>97.682058</td>\n",
       "    </tr>\n",
       "    <tr>\n",
       "      <th>39</th>\n",
       "      <td>ParametricData|Features&gt;Temperature Grade</td>\n",
       "      <td>67.593430</td>\n",
       "    </tr>\n",
       "    <tr>\n",
       "      <th>51</th>\n",
       "      <td>ParametricData|Features&gt;Mounting</td>\n",
       "      <td>69.818407</td>\n",
       "    </tr>\n",
       "    <tr>\n",
       "      <th>53</th>\n",
       "      <td>ParametricData|Features&gt;Number of Terminals</td>\n",
       "      <td>67.980167</td>\n",
       "    </tr>\n",
       "    <tr>\n",
       "      <th>54</th>\n",
       "      <td>ParametricData|Features&gt;Operating Temperature</td>\n",
       "      <td>68.769755</td>\n",
       "    </tr>\n",
       "    <tr>\n",
       "      <th>59</th>\n",
       "      <td>ParametricData|Features&gt;Product Height</td>\n",
       "      <td>63.096374</td>\n",
       "    </tr>\n",
       "    <tr>\n",
       "      <th>60</th>\n",
       "      <td>ParametricData|Features&gt;Product Length</td>\n",
       "      <td>66.130772</td>\n",
       "    </tr>\n",
       "    <tr>\n",
       "      <th>63</th>\n",
       "      <td>ParametricData|Features&gt;Technology</td>\n",
       "      <td>60.582584</td>\n",
       "    </tr>\n",
       "    <tr>\n",
       "      <th>64</th>\n",
       "      <td>ParametricData|Features&gt;Termination Style</td>\n",
       "      <td>65.789898</td>\n",
       "    </tr>\n",
       "    <tr>\n",
       "      <th>65</th>\n",
       "      <td>ParametricData|Features&gt;Tolerance</td>\n",
       "      <td>68.906105</td>\n",
       "    </tr>\n",
       "  </tbody>\n",
       "</table>\n",
       "</div>"
      ],
      "text/plain": [
       "                                              feature   coverage\n",
       "11                 ParametricData|Features>Life Cycle  97.431670\n",
       "18  ParametricData|Features>Maximum Operating Temp...  96.115277\n",
       "21  ParametricData|Features>Minimum Operating Temp...  95.997521\n",
       "27                  ParametricData|Features>Packaging  83.924388\n",
       "33                       ParametricData|Features>ROHS  97.682058\n",
       "39          ParametricData|Features>Temperature Grade  67.593430\n",
       "51                   ParametricData|Features>Mounting  69.818407\n",
       "53        ParametricData|Features>Number of Terminals  67.980167\n",
       "54      ParametricData|Features>Operating Temperature  68.769755\n",
       "59             ParametricData|Features>Product Height  63.096374\n",
       "60             ParametricData|Features>Product Length  66.130772\n",
       "63                 ParametricData|Features>Technology  60.582584\n",
       "64          ParametricData|Features>Termination Style  65.789898\n",
       "65                  ParametricData|Features>Tolerance  68.906105"
      ]
     },
     "execution_count": 16,
     "metadata": {},
     "output_type": "execute_result"
    }
   ],
   "source": [
    "parametric_data_features_stats = {}\n",
    "for component in sylicon_expert_raw_data:\n",
    "    tmp_feature_data = safe_get_nested_item(component, 'ParametricData|Features'.split('|'))\n",
    "    if tmp_feature_data!=None:\n",
    "        if type(tmp_feature_data) == list:\n",
    "            for feature_dict in tmp_feature_data:\n",
    "                parametric_data_features_stats[\"{}>{}\".format('ParametricData|Features', feature_dict['FeatureName'])] = parametric_data_features_stats.get(\"{}>{}\".format('ParametricData|Features', feature_dict['FeatureName']), 0) + 1\n",
    "        else:\n",
    "            parametric_data_features_stats[\"{}|{}\".format('ParametricData|Features', tmp_feature_data['FeatureName'])] = parametric_data_features_stats.get(\"{}|{}\".format('ParametricData|Features', tmp_feature_data['FeatureName']), 0) + 1\n",
    "\n",
    "tmp = pd.DataFrame.from_dict(parametric_data_features_stats, orient='index')\n",
    "tmp.reset_index(inplace=True)\n",
    "tmp.columns = ['feature', 'coverage']\n",
    "tmp['coverage'] = tmp['coverage']*100/len(sylicon_expert_raw_data)\n",
    "tmp = tmp[tmp['coverage']>=60]\n",
    "tmp"
   ]
  },
  {
   "cell_type": "code",
   "execution_count": 17,
   "metadata": {},
   "outputs": [],
   "source": [
    "final_features_coverage_df = pd.concat([final_features_coverage_df, tmp])"
   ]
  },
  {
   "cell_type": "code",
   "execution_count": null,
   "metadata": {},
   "outputs": [],
   "source": [
    "sb.set(rc={\"figure.figsize\": (7, 30)})\n",
    "sb.barplot(data=final_features_coverage_df, y='feature', x='coverage', color='royalblue')"
   ]
  },
  {
   "cell_type": "markdown",
   "metadata": {},
   "source": [
    "## 3. Final DataFrame construction"
   ]
  },
  {
   "cell_type": "code",
   "execution_count": 18,
   "metadata": {},
   "outputs": [],
   "source": [
    "def get_feature_from_list_feature_group(data: dict, feature_path: str):\n",
    "    tmp = safe_get_nested_item(component, feature_path.split('>')[0].split('|'))\n",
    "    if tmp!=None:\n",
    "        feature_name = feature_path.split('>')[1]\n",
    "        if type(tmp) == list:\n",
    "            for feature_dict in tmp:\n",
    "                if feature_dict['FeatureName'] == feature_name:\n",
    "                    return {'Value': feature_dict.get('FeatureValue', None), 'Unit': feature_dict.get('FeatureUnit', None)}\n",
    "        else:\n",
    "            return {'Value': tmp.get('FeatureValue', None), 'Unit': tmp.get('FeatureUnit', None)}\n",
    "    else:\n",
    "        return None"
   ]
  },
  {
   "cell_type": "code",
   "execution_count": 19,
   "metadata": {},
   "outputs": [],
   "source": [
    "pre_data_dict = []\n",
    "for component in sylicon_expert_raw_data:\n",
    "    tmp = {}\n",
    "    for feature_path in final_features_coverage_df.feature.values:\n",
    "        if '>' in feature_path:\n",
    "            x = get_feature_from_list_feature_group(component, feature_path)\n",
    "            if x!=None:\n",
    "                tmp[\"{}:Value\".format(feature_path)] = x['Value']\n",
    "                tmp[\"{}:Unit\".format(feature_path)] = x['Unit']\n",
    "            else:\n",
    "                tmp[\"{}:Value\".format(feature_path)] = None\n",
    "                tmp[\"{}:Unit\".format(feature_path)] = None\n",
    "        else:\n",
    "            tmp[feature_path] = safe_get_nested_item(component, feature_path.split('|'))\n",
    "    pre_data_dict.append(tmp)"
   ]
  },
  {
   "cell_type": "code",
   "execution_count": 20,
   "metadata": {},
   "outputs": [
    {
     "data": {
      "application/vnd.jupyter.widget-view+json": {
       "model_id": "d0cc51bd3b594df08009d07d5e0641f9",
       "version_major": 2,
       "version_minor": 0
      },
      "text/plain": [
       "Pandas Apply:   0%|          | 0/16234 [00:00<?, ?it/s]"
      ]
     },
     "metadata": {},
     "output_type": "display_data"
    }
   ],
   "source": [
    "final_parts_data = pd.DataFrame(pre_data_dict)\n",
    "final_unique_parts = set(df_alternates_collected.original_mpn.values).union(df_alternates_collected.alternate_mpn.values)\n",
    "final_parts_data['transformed_mpn'] = final_parts_data['SummaryData|PartNumber'].apply(lambda x: re.sub(r'[^\\w]', '', str(x).lower()))\n",
    "final_parts_data = final_parts_data[final_parts_data['transformed_mpn'].apply(lambda x: x in final_unique_parts)]\n",
    "\n",
    "# This is to avoid having some parts multiple times\n",
    "final_parts_data['number_of_na'] = final_parts_data.swifter.apply(lambda x: x.isna().sum(), axis=1)\n",
    "final_parts_data['mpn_group_rank'] = final_parts_data.sort_values(['number_of_na']).groupby(['transformed_mpn']).cumcount()\n",
    "final_parts_data = final_parts_data[final_parts_data['mpn_group_rank'] == 0]\n",
    "final_parts_data = final_parts_data.drop(columns=['number_of_na', 'mpn_group_rank'])"
   ]
  },
  {
   "cell_type": "markdown",
   "metadata": {},
   "source": [
    "## 4. Data Cleaning"
   ]
  },
  {
   "cell_type": "code",
   "execution_count": 22,
   "metadata": {},
   "outputs": [],
   "source": [
    "url_features = ['DesignResourcesData|PinOutData|PinOutDataSource', 'LifeCycleData|Source', 'EnvironmentalDto|Source', 'EnvironmentalDto|ConflictMineralStatement', 'EnvironmentalDto|EICCTemplate',\n",
    "            'EnvironmentalDto|ChinaRoHS|CachedSource', 'EnvironmentalDto|ChinaRoHS|LiveSupplierSource', 'SummaryData|Datasheet', 'SummaryData|OnlineSupplierDatasheetURL', 'SummaryData|SmallImageURL',\n",
    "            'SummaryData|ESDSourceofInformation', 'ReachData|ReachDto|CachedSource', 'ReachData|ReachDto|SupportingDocument', 'ProductImage|ProductImageSmall', 'ProductImage|ProductImageLarge']\n",
    "features_to_drop_before_clean = url_features + [\n",
    "    'RequestedComID', # Is not an inner property\n",
    "    'SummaryData|DataProviderID', # Is not an inner property\n",
    "    'SummaryData|PartNumber', # Is not an inner property\n",
    "    'SummaryData|Manufacturer', # Is not an inner property\n",
    "    'SummaryData|ManufacturerID', # Is not an inner property\n",
    "    'SummaryData|TaxonomyPath', # Is not an inner property\n",
    "    'SummaryData|TaxonomyPathIDs', # Is not an inner property\n",
    "    'SummaryData|GenericName', # Is not an inner property\n",
    "    'SummaryData|FamilyName', # Is not an inner property\n",
    "    'SummaryData|SupplierCageCode', # Is not an inner property\n",
    "    'SummaryData|ScheduleB', # Is not an inner property\n",
    "    'SummaryData|HTSUSA', # Is not an inner property\n",
    "    'SummaryData|PPAP', # Is not an inner property\n",
    "    'RiskData|TechnologyLifecycleStatus', # No value\n",
    "    'RiskData|Reason', # No value\n",
    "    'RiskData|TechnologyRecommendation', # No value\n",
    "    'RiskData|Image', # No value\n",
    "    'RiskData|LastUpdateDate', # One unique value\n",
    "    'PackageData|Feature>Mounting:Unit',\n",
    "    'PackageData|Feature>Number of Terminals:Unit',\n",
    "    'PackageData|Feature>Package/Case:Unit',\n",
    "    'PackageData|Feature>Product Depth:Unit',\n",
    "    'PackageData|Feature>Product Diameter:Unit',\n",
    "    'PackageData|Feature>Product Height:Unit',\n",
    "    'PackageData|Feature>Product Length:Unit',\n",
    "    'PackageData|Feature>Product Weight:Unit',\n",
    "    'PackageData|Feature>Terminal Pitch:Unit',\n",
    "    'PackageData|Feature>Termination Style:Unit',\n",
    "    'ParametricData|Features>Life Cycle:Unit',\n",
    "    'ParametricData|Features>Maximum Operating Temperature:Unit',\n",
    "    'ParametricData|Features>Minimum Operating Temperature:Unit',\n",
    "    'ParametricData|Features>Packaging:Unit',\n",
    "    'ParametricData|Features>ROHS:Unit',\n",
    "    'ParametricData|Features>Temperature Grade:Unit',\n",
    "    'ParametricData|Features>Mounting:Unit',\n",
    "    'ParametricData|Features>Number of Terminals:Unit',\n",
    "    'ParametricData|Features>Operating Temperature:Value', # Repetition\n",
    "    'ParametricData|Features>Operating Temperature:Unit', # Repetition\n",
    "    'ParametricData|Features>Product Height:Unit',\n",
    "    'ParametricData|Features>Product Length:Unit',\n",
    "    'ParametricData|Features>Technology:Unit',\n",
    "    'ParametricData|Features>Termination Style:Unit',\n",
    "    'ParametricData|Features>Tolerance:Unit',\n",
    "    'EnvironmentalDto|ChinaRoHS|ItemSubitemName', # No Value\n",
    "    'LifeCycleData|EstimatedEOLDate', # Calculated based on EstimatedYearsToEOL\n",
    "    'RiskData|PredictedObsolescenceYear', # Calculated from YearsEOL\n",
    "\n",
    "    ## Features that we may drop\n",
    "    #'AverageInventory', # Average quantity available\n",
    "    #'FullCounterfeitData|ManCounterfeitReportsCount', # Manufacturer property\n",
    "    #'FullCounterfeitData|AuthorizedDistributorswithStockCount', # Distributors property\n",
    "    #'SummaryData|OtherSources', # Related to distribution\n",
    "    #'SummaryData|AuthorizedDistributors', # Related to distribution\n",
    "    #'RiskData|NumberOfDistributors', # Related to distribution\n",
    "    #'RiskData|NumberOfOtherSources', # Related to distribution\n",
    "]\n",
    "features_to_drop_after_clean = [\n",
    "    'PackageData|Feature>Product Weight:Value', # Replaced with MinValue and MaxValue\n",
    "]"
   ]
  },
  {
   "cell_type": "code",
   "execution_count": 29,
   "metadata": {},
   "outputs": [],
   "source": [
    "def clean_entry(x):\n",
    "    # Numeric Features\n",
    "    def clean_numeric_feature(numeric_feature):\n",
    "        try:\n",
    "            x[numeric_feature] = float(re.findall(r\"\\d+\\.?\\d*\", str(x[numeric_feature]))[0])\n",
    "        except:\n",
    "            x[numeric_feature] = np.nan\n",
    "    clean_numeric_feature('AverageInventory')\n",
    "    clean_numeric_feature('FullCounterfeitData|CounterfeitOverallRisk')\n",
    "    clean_numeric_feature('FullCounterfeitData|PartNumCounterfeitReportsCount')\n",
    "    clean_numeric_feature('FullCounterfeitData|ManCounterfeitReportsCount')\n",
    "    clean_numeric_feature('FullCounterfeitData|PlCounterfeitReportsCount')\n",
    "    clean_numeric_feature('FullCounterfeitData|TimeSinceMarketIntroduction')\n",
    "    clean_numeric_feature('FullCounterfeitData|AuthorizedDistributorswithStockCount')\n",
    "    clean_numeric_feature('LifeCycleData|EstimatedYearsToEOL')\n",
    "    clean_numeric_feature('LifeCycleData|MinimumEstimatedYearsToEOL')\n",
    "    clean_numeric_feature('LifeCycleData|MaximumEstimatedYearsToEOL')\n",
    "    clean_numeric_feature('LifeCycleData|OverallRisk')\n",
    "    clean_numeric_feature('SummaryData|OtherSources')\n",
    "    clean_numeric_feature('SummaryData|AuthorizedDistributors')\n",
    "    clean_numeric_feature('ReachData|ReachDto|SubstanceConcentration')\n",
    "    clean_numeric_feature('RiskData|YearsEOL')\n",
    "    clean_numeric_feature('RiskData|NumberOfDistributors')\n",
    "    clean_numeric_feature('RiskData|NumberOfOtherSources')\n",
    "    clean_numeric_feature('RiskData|SEGrade')\n",
    "    clean_numeric_feature('PackageData|Feature>Number of Terminals:Value')\n",
    "    clean_numeric_feature('PackageData|Feature>Product Depth:Value')\n",
    "    clean_numeric_feature('PackageData|Feature>Product Diameter:Value')\n",
    "    clean_numeric_feature('PackageData|Feature>Product Height:Value')\n",
    "    clean_numeric_feature('PackageData|Feature>Product Length:Value')\n",
    "    try:\n",
    "        tmp = re.findall(r\"\\d+\\.?\\d*\", str(x['PackageData|Feature>Product Weight:Value']))\n",
    "        x['PackageData|Feature>Product Weight:MinValue'] = float(tmp[0])\n",
    "        if len(tmp)!=1:\n",
    "            x['PackageData|Feature>Product Weight:MaxValue'] = float(tmp[1])\n",
    "        else:\n",
    "            x['PackageData|Feature>Product Weight:MaxValue'] = float(tmp[0])\n",
    "    except:\n",
    "        x['PackageData|Feature>Product Weight:MinValue'] = np.nan\n",
    "        x['PackageData|Feature>Product Weight:MaxValue'] = np.nan\n",
    "    clean_numeric_feature('PackageData|Feature>Terminal Pitch:Value')\n",
    "    clean_numeric_feature('ParametricData|Features>Maximum Operating Temperature:Value')\n",
    "    clean_numeric_feature('ParametricData|Features>Minimum Operating Temperature:Value')\n",
    "    clean_numeric_feature('ParametricData|Features>Number of Terminals:Value')\n",
    "    clean_numeric_feature('ParametricData|Features>Product Height:Value')\n",
    "    clean_numeric_feature('ParametricData|Features>Product Length:Value')\n",
    "    clean_numeric_feature('ParametricData|Features>Tolerance:Value')\n",
    "    \n",
    "    # Date Features\n",
    "    def clean_date_feature(date_feature):\n",
    "        try:\n",
    "            x[date_feature] =  datetime.datetime.strptime(str(x[date_feature]), \"%b %d, %Y\")\n",
    "        except:\n",
    "            x[date_feature] = 'Empty Date'\n",
    "    clean_date_feature('LifeCycleData|LTBDate')\n",
    "    clean_date_feature('EnvironmentalDto|ExemptionExpirationDate')\n",
    "    clean_date_feature('SummaryData|LastCheckDate')\n",
    "    clean_date_feature('SummaryData|IntroductionDate')\n",
    "    clean_date_feature('ReachData|ReachDto|SVHCListVersion')\n",
    "    clean_date_feature('ReachData|ReachDto|SVHCDateOfInclusion')\n",
    "\n",
    "    # Categorical Features\n",
    "    def clean_cat_feature(cat_feature):\n",
    "        try:\n",
    "            x[cat_feature] = str(x[cat_feature])\n",
    "            if x[cat_feature] == 'None':\n",
    "                x[cat_feature] = 'Missing Feature'\n",
    "            elif x[cat_feature] == 'N/A':\n",
    "                x[cat_feature] = 'Not Assigned'\n",
    "            elif x[cat_feature] == '':\n",
    "                x[cat_feature] = 'Empty Cat'\n",
    "        except:\n",
    "            x[cat_feature] = 'Empty Cat'\n",
    "    clean_cat_feature('FullCounterfeitData|CurrentLifecycleStatus')\n",
    "    clean_cat_feature('FullCounterfeitData|HistoricalShortagesInventoryReported')\n",
    "    clean_cat_feature('FullCounterfeitData|IsPopularPart')\n",
    "    clean_cat_feature('LifeCycleData|PartStatus')\n",
    "    clean_cat_feature('LifeCycleData|PartLifecycleStage')\n",
    "    clean_cat_feature('LifeCycleData|LifeCycleRiskGrade')\n",
    "    clean_cat_feature('LifeCycleData|PartLifecycleCode')\n",
    "    clean_cat_feature('EnvironmentalDto|RoHSStatus')\n",
    "    clean_cat_feature('EnvironmentalDto|RoHSVersion')\n",
    "    clean_cat_feature('EnvironmentalDto|SourceType')\n",
    "    clean_cat_feature('EnvironmentalDto|Exemption')\n",
    "    clean_cat_feature('EnvironmentalDto|ExemptionCodes')\n",
    "    clean_cat_feature('EnvironmentalDto|RohsIdentifier')\n",
    "    clean_cat_feature('EnvironmentalDto|LeadFree')\n",
    "    clean_cat_feature('EnvironmentalDto|RareEarthElementInformation')\n",
    "    clean_cat_feature('EnvironmentalDto|ConflictMineralStatus')\n",
    "    clean_cat_feature('EnvironmentalDto|EICCMembership')\n",
    "    clean_cat_feature('EnvironmentalDto|EICCTemplateVersion')\n",
    "    clean_cat_feature('EnvironmentalDto|HalgonFree')\n",
    "    clean_cat_feature('EnvironmentalDto|ChinaRoHS|ChinaRoHSStatus')\n",
    "    clean_cat_feature('EnvironmentalDto|ChinaRoHS|CadmiumConcentration')\n",
    "    clean_cat_feature('EnvironmentalDto|ChinaRoHS|CadmiumFlag')\n",
    "    clean_cat_feature('EnvironmentalDto|ChinaRoHS|ChromiumConcentration')\n",
    "    clean_cat_feature('EnvironmentalDto|ChinaRoHS|ChromiumFlag')\n",
    "    clean_cat_feature('EnvironmentalDto|ChinaRoHS|LeadConcentration')\n",
    "    clean_cat_feature('EnvironmentalDto|ChinaRoHS|LeadFlag')\n",
    "    clean_cat_feature('EnvironmentalDto|ChinaRoHS|MercuryConcentration')\n",
    "    clean_cat_feature('EnvironmentalDto|ChinaRoHS|MercuryFlag')\n",
    "    clean_cat_feature('EnvironmentalDto|ChinaRoHS|PBBConcentration')\n",
    "    clean_cat_feature('EnvironmentalDto|ChinaRoHS|PBBFlag')\n",
    "    clean_cat_feature('EnvironmentalDto|ChinaRoHS|PBDEConcentration')\n",
    "    clean_cat_feature('EnvironmentalDto|ChinaRoHS|PBDEFlag')\n",
    "    clean_cat_feature('EnvironmentalDto|ChinaRoHS|SourceType')\n",
    "    clean_cat_feature('EnvironmentalDto|ChinaRoHS|EPUP')\n",
    "    clean_cat_feature('SummaryData|RadHard')\n",
    "    clean_cat_feature('SummaryData|DoseLevel')\n",
    "    clean_cat_feature('SummaryData|ECCN')\n",
    "    clean_cat_feature('SummaryData|UNSPSC')\n",
    "    clean_cat_feature('SummaryData|PartMarking')\n",
    "    clean_cat_feature('SummaryData|ESDClass')\n",
    "    clean_cat_feature('SummaryData|AECNumber')\n",
    "    clean_cat_feature('SummaryData|AECQualified')\n",
    "    clean_cat_feature('SummaryData|Automotive')\n",
    "    clean_cat_feature('SummaryData|EURoHS')\n",
    "    clean_cat_feature('SummaryData|RoHSVersion')\n",
    "    clean_cat_feature('SummaryData|USChinaTariffImpact')\n",
    "    clean_cat_feature('ReachData|ReachDto|ContainsSVHC')\n",
    "    clean_cat_feature('ReachData|ReachDto|SVHCExceedThresholdLimit')\n",
    "    clean_cat_feature('ReachData|ReachDto|SubstanceIdentification')\n",
    "    clean_cat_feature('ReachData|ReachDto|SourceType')\n",
    "    clean_cat_feature('ReachData|ReachDto|ReachStatus')\n",
    "    clean_cat_feature('ReachData|ReachDto|CASNumber')\n",
    "    clean_cat_feature('ReachData|ReachDto|EchaNotification')\n",
    "    clean_cat_feature('RiskData|RohsRisk')\n",
    "    clean_cat_feature('RiskData|MultiSourcingRisk')\n",
    "    clean_cat_feature('RiskData|InventoryRisk')\n",
    "    clean_cat_feature('RiskData|LifecycleRisk')\n",
    "    clean_cat_feature('RiskData|LifecycleStage')\n",
    "    clean_cat_feature('RiskData|CrossesPartCategory')\n",
    "    clean_cat_feature('PackageData|Feature>Mounting:Value')\n",
    "    clean_cat_feature('PackageData|Feature>Package/Case:Value')\n",
    "    clean_cat_feature('PackageData|Feature>Termination Style:Value')\n",
    "    clean_cat_feature('ParametricData|Features>Life Cycle:Value')\n",
    "    clean_cat_feature('ParametricData|Features>Packaging:Value')\n",
    "    clean_cat_feature('ParametricData|Features>ROHS:Value')\n",
    "    clean_cat_feature('ParametricData|Features>Temperature Grade:Value')\n",
    "    clean_cat_feature('ParametricData|Features>Mounting:Value')\n",
    "    clean_cat_feature('ParametricData|Features>Technology:Value')\n",
    "    clean_cat_feature('ParametricData|Features>Termination Style:Value')\n",
    "    \n",
    "    # Textual Features\n",
    "    def clean_textual_feature(textual_feature):\n",
    "        try:\n",
    "            x[textual_feature] = str(x[textual_feature])\n",
    "            if x[textual_feature] in ('', 'None'):\n",
    "                x[textual_feature] = ''\n",
    "        except:\n",
    "            x[textual_feature] = ''\n",
    "    clean_textual_feature('EnvironmentalDto|ExemptionType')\n",
    "    clean_textual_feature('SummaryData|PartDescription')\n",
    "    clean_textual_feature('SummaryData|PLName')\n",
    "    clean_textual_feature('ReachData|ReachDto|SubstanceLocation')\n",
    "    clean_textual_feature('RiskData|YeolComment')\n",
    "    clean_textual_feature('ReachData|ReachDto|NotificationComment')\n",
    "\n",
    "    return x"
   ]
  },
  {
   "cell_type": "code",
   "execution_count": 25,
   "metadata": {},
   "outputs": [
    {
     "data": {
      "text/plain": [
       "array(['<100', 'N/A', '', None], dtype=object)"
      ]
     },
     "execution_count": 25,
     "metadata": {},
     "output_type": "execute_result"
    }
   ],
   "source": [
    "final_parts_data['EnvironmentalDto|ChinaRoHS|CadmiumConcentration'].unique()"
   ]
  },
  {
   "cell_type": "code",
   "execution_count": 30,
   "metadata": {},
   "outputs": [
    {
     "data": {
      "application/vnd.jupyter.widget-view+json": {
       "model_id": "5a2e7a3e8eaa4162b966acdd4111d575",
       "version_major": 2,
       "version_minor": 0
      },
      "text/plain": [
       "Pandas Apply:   0%|          | 0/14491 [00:00<?, ?it/s]"
      ]
     },
     "metadata": {},
     "output_type": "display_data"
    }
   ],
   "source": [
    "final_cleaned_data = final_parts_data.drop(columns=features_to_drop_before_clean).swifter.apply(clean_entry, axis=1).drop(columns=features_to_drop_after_clean)"
   ]
  },
  {
   "cell_type": "code",
   "execution_count": 31,
   "metadata": {},
   "outputs": [
    {
     "data": {
      "text/plain": [
       "array(['<100', 'Not Assigned', 'Empty Cat', 'Missing Feature'],\n",
       "      dtype=object)"
      ]
     },
     "execution_count": 31,
     "metadata": {},
     "output_type": "execute_result"
    }
   ],
   "source": [
    "final_cleaned_data['EnvironmentalDto|ChinaRoHS|CadmiumConcentration'].unique()"
   ]
  },
  {
   "cell_type": "code",
   "execution_count": 27,
   "metadata": {},
   "outputs": [],
   "source": [
    "final_cleaned_data.to_csv(\"../data/cleaned_parts_dataset.csv\", index=False)"
   ]
  },
  {
   "cell_type": "code",
   "execution_count": null,
   "metadata": {},
   "outputs": [],
   "source": [
    "final_parts_data"
   ]
  },
  {
   "cell_type": "code",
   "execution_count": null,
   "metadata": {},
   "outputs": [],
   "source": []
  }
 ],
 "metadata": {
  "kernelspec": {
   "display_name": "Python 3.10.4 ('venv': venv)",
   "language": "python",
   "name": "python3"
  },
  "language_info": {
   "codemirror_mode": {
    "name": "ipython",
    "version": 3
   },
   "file_extension": ".py",
   "mimetype": "text/x-python",
   "name": "python",
   "nbconvert_exporter": "python",
   "pygments_lexer": "ipython3",
   "version": "3.10.6"
  },
  "orig_nbformat": 4,
  "vscode": {
   "interpreter": {
    "hash": "a0c3a8c53b65175ab09cc9e40b16d1ba2ab60bb5c1262ebc7978e53535bf8122"
   }
  }
 },
 "nbformat": 4,
 "nbformat_minor": 2
}
